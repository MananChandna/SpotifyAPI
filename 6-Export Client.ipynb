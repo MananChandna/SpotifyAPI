{
 "cells": [
  {
   "cell_type": "code",
   "execution_count": 7,
   "id": "8be841cb-1ab7-4ea9-8bef-cbbfc563ad3c",
   "metadata": {},
   "outputs": [
    {
     "name": "stderr",
     "output_type": "stream",
     "text": [
      "[NbConvertApp] Converting notebook spotify_client.ipynb to python\n",
      "[NbConvertApp] Writing 4318 bytes to ..\\client\\spotify_client.py\n"
     ]
    }
   ],
   "source": [
    "!jupyter nbconvert --output-dir='../client' --to python spotify_client.ipynb"
   ]
  },
  {
   "cell_type": "code",
   "execution_count": null,
   "id": "cb0ab73e-6468-4793-9e8d-4dec53865c63",
   "metadata": {},
   "outputs": [],
   "source": []
  },
  {
   "cell_type": "code",
   "execution_count": null,
   "id": "ee93311c-2114-4ea2-af05-ded35851dca7",
   "metadata": {},
   "outputs": [],
   "source": []
  }
 ],
 "metadata": {
  "kernelspec": {
   "display_name": "Python 3 (ipykernel)",
   "language": "python",
   "name": "python3"
  },
  "language_info": {
   "codemirror_mode": {
    "name": "ipython",
    "version": 3
   },
   "file_extension": ".py",
   "mimetype": "text/x-python",
   "name": "python",
   "nbconvert_exporter": "python",
   "pygments_lexer": "ipython3",
   "version": "3.11.7"
  }
 },
 "nbformat": 4,
 "nbformat_minor": 5
}
