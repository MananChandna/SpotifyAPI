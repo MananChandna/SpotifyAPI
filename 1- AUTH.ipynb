{
 "cells": [
  {
   "cell_type": "code",
   "execution_count": 1,
   "id": "cc68160d-8e02-46b0-b8a6-63551a34e183",
   "metadata": {},
   "outputs": [
    {
     "name": "stdout",
     "output_type": "stream",
     "text": [
      "Requirement already satisfied: requests in c:\\users\\dell\\.virtualenvs\\day19-2cualgdl\\lib\\site-packages (2.31.0)\n",
      "Requirement already satisfied: charset-normalizer<4,>=2 in c:\\users\\dell\\.virtualenvs\\day19-2cualgdl\\lib\\site-packages (from requests) (3.3.2)\n",
      "Requirement already satisfied: idna<4,>=2.5 in c:\\users\\dell\\.virtualenvs\\day19-2cualgdl\\lib\\site-packages (from requests) (3.6)\n",
      "Requirement already satisfied: urllib3<3,>=1.21.1 in c:\\users\\dell\\.virtualenvs\\day19-2cualgdl\\lib\\site-packages (from requests) (2.2.1)\n",
      "Requirement already satisfied: certifi>=2017.4.17 in c:\\users\\dell\\.virtualenvs\\day19-2cualgdl\\lib\\site-packages (from requests) (2024.2.2)\n"
     ]
    }
   ],
   "source": [
    "!pip install requests"
   ]
  },
  {
   "cell_type": "code",
   "execution_count": 2,
   "id": "55fea9b1-8c9e-4c3f-ace6-cb82e2e31dd2",
   "metadata": {},
   "outputs": [],
   "source": [
    "import requests\n",
    "import datetime"
   ]
  },
  {
   "cell_type": "code",
   "execution_count": 3,
   "id": "e77a83a2-f441-4e2e-970e-0ba3feac20a8",
   "metadata": {},
   "outputs": [],
   "source": [
    "import base64"
   ]
  },
  {
   "cell_type": "code",
   "execution_count": 4,
   "id": "7497e21a-9881-45bf-aadc-230bc74e68e7",
   "metadata": {},
   "outputs": [],
   "source": [
    "client_id = "",
    "client_secret = ""
   ]
  },
  {
   "cell_type": "code",
   "execution_count": 5,
   "id": "040f54e5-1413-4cb6-ad2a-bb6acc50294f",
   "metadata": {},
   "outputs": [],
   "source": [
    "# do a lookup for a token \n",
    "# this token will be used for future requests"
   ]
  },
  {
   "cell_type": "code",
   "execution_count": 6,
   "id": "ee00f974-8afe-4164-ad45-d0291d56ced5",
   "metadata": {},
   "outputs": [
    {
     "data": {
      "text/plain": [
       "str"
      ]
     },
     "execution_count": 6,
     "metadata": {},
     "output_type": "execute_result"
    }
   ],
   "source": [
    "client_creds = f\"{client_id}:{client_secret}\"\n",
    "type(client_creds)"
   ]
  },
  {
   "cell_type": "code",
   "execution_count": 7,
   "id": "35b7916e-b875-437c-8455-e5d2c5f10198",
   "metadata": {},
   "outputs": [
    {
     "data": {
      "text/plain": [
       "bytes"
      ]
     },
     "execution_count": 7,
     "metadata": {},
     "output_type": "execute_result"
    }
   ],
   "source": [
    "client_creds_b64 = base64.b64encode(client_creds.encode())\n",
    "type(client_creds_b64)"
   ]
  },
  {
   "cell_type": "code",
   "execution_count": 8,
   "id": "7c36a47e-9a6e-4d59-a5a0-d3f04139fbb7",
   "metadata": {},
   "outputs": [],
   "source": [
    "# base64.b64decode(client_creds_b64)"
   ]
  },
  {
   "cell_type": "code",
   "execution_count": 9,
   "id": "5ef81a41-df8a-48a7-ad16-b63a9a796c29",
   "metadata": {},
   "outputs": [],
   "source": [
    "token_url = \"https://accounts.spotify.com/api/token\"\n",
    "method = \"POST\"\n",
    "token_data = {\n",
    "    \"grant_type\": \"client_credentials\"\n",
    "}\n",
    "token_headers = {\n",
    "    \"Authorization\": f\"Basic {client_creds_b64.decode()}\" # <base64 encoded client_id:client_secret>\n",
    "}"
   ]
  },
  {
   "cell_type": "code",
   "execution_count": 10,
   "id": "7cd45957-cc0e-44b0-8e59-10a921a103ef",
   "metadata": {},
   "outputs": [
    {
     "name": "stdout",
     "output_type": "stream",
     "text": [
      "{'access_token': 'BQBnIBrj2C0Fbt9h1vtAJ2LC9KfzQKDAR_Caags0uEblBVxkaQ0VDbjW5TUEuSjaJMM3qspptOyzk4KY4gq9XPj1ePM6EVNRZ4Lwx9HYuBx6WADg3Dw', 'token_type': 'Bearer', 'expires_in': 3600}\n"
     ]
    }
   ],
   "source": [
    "r = requests.post(token_url, data=token_data, headers=token_headers)\n",
    "print(r.json())\n",
    "valid_request = r.status_code in range(200, 299)"
   ]
  },
  {
   "cell_type": "code",
   "execution_count": 11,
   "id": "049b91b2-35aa-42c9-bf84-d56e7b614310",
   "metadata": {},
   "outputs": [],
   "source": [
    "if valid_request:\n",
    "    token_response_data = r.json()\n",
    "    now = datetime.datetime.now()\n",
    "    access_token = token_response_data['access_token']\n",
    "    expires_in = token_response_data['expires_in'] # seconds\n",
    "    expires = now + datetime.timedelta(seconds=expires_in)\n",
    "    did_expire = expires < now"
   ]
  }
 ],
 "metadata": {
  "kernelspec": {
   "display_name": "Python 3 (ipykernel)",
   "language": "python",
   "name": "python3"
  },
  "language_info": {
   "codemirror_mode": {
    "name": "ipython",
    "version": 3
   },
   "file_extension": ".py",
   "mimetype": "text/x-python",
   "name": "python",
   "nbconvert_exporter": "python",
   "pygments_lexer": "ipython3",
   "version": "3.11.7"
  }
 },
 "nbformat": 4,
 "nbformat_minor": 5
}
