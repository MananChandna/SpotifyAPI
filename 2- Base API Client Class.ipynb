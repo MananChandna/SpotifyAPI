{
 "cells": [
  {
   "cell_type": "code",
   "execution_count": 1,
   "id": "cc68160d-8e02-46b0-b8a6-63551a34e183",
   "metadata": {},
   "outputs": [
    {
     "name": "stdout",
     "output_type": "stream",
     "text": [
      "Requirement already satisfied: requests in c:\\users\\dell\\.virtualenvs\\day19-2cualgdl\\lib\\site-packages (2.31.0)\n",
      "Requirement already satisfied: charset-normalizer<4,>=2 in c:\\users\\dell\\.virtualenvs\\day19-2cualgdl\\lib\\site-packages (from requests) (3.3.2)\n",
      "Requirement already satisfied: idna<4,>=2.5 in c:\\users\\dell\\.virtualenvs\\day19-2cualgdl\\lib\\site-packages (from requests) (3.6)\n",
      "Requirement already satisfied: urllib3<3,>=1.21.1 in c:\\users\\dell\\.virtualenvs\\day19-2cualgdl\\lib\\site-packages (from requests) (2.2.1)\n",
      "Requirement already satisfied: certifi>=2017.4.17 in c:\\users\\dell\\.virtualenvs\\day19-2cualgdl\\lib\\site-packages (from requests) (2024.2.2)\n"
     ]
    }
   ],
   "source": [
    "!pip install requests"
   ]
  },
  {
   "cell_type": "code",
   "execution_count": 2,
   "id": "55fea9b1-8c9e-4c3f-ace6-cb82e2e31dd2",
   "metadata": {},
   "outputs": [],
   "source": [
    "import requests\n",
    "import datetime"
   ]
  },
  {
   "cell_type": "code",
   "execution_count": 3,
   "id": "e77a83a2-f441-4e2e-970e-0ba3feac20a8",
   "metadata": {},
   "outputs": [],
   "source": [
    "import base64"
   ]
  },
  {
   "cell_type": "code",
   "execution_count": 4,
   "id": "7497e21a-9881-45bf-aadc-230bc74e68e7",
   "metadata": {},
   "outputs": [],
   "source": [
    "client_id = '3ce66fdac0c44f708cbcbe77de61fa62'\n",
    "client_secret = 'c0dc4470c3114a66b314a9e667b10ed8'"
   ]
  },
  {
   "cell_type": "code",
   "execution_count": 8,
   "id": "040f54e5-1413-4cb6-ad2a-bb6acc50294f",
   "metadata": {},
   "outputs": [],
   "source": [
    "class SpotifyAPI(object):\n",
    "    access_token = None\n",
    "    access_token_expires = datetime.datetime.now()\n",
    "    access_token_did_expire = True\n",
    "    client_id = None\n",
    "    client_secret = None\n",
    "    token_url = \"https://accounts.spotify.com/api/token\"\n",
    "\n",
    "    def __init__(self, client_id, client_secret, *args, **kwargs):\n",
    "        super().__init__(*args, **kwargs)\n",
    "        self.client_id = client_id\n",
    "        self.client_secret = client_secret\n",
    "\n",
    "    def get_client_credentials(self):\n",
    "        \"\"\"\n",
    "        Returns a base64 encoded string\n",
    "        \"\"\"\n",
    "        client_id = self.client_id\n",
    "        client_secret = self.client_secret\n",
    "        if client_secret == None or client_id == None:\n",
    "            raise Exception(\"You must set a client_id and client_secret\")\n",
    "        client_creds = f\"{client_id}:{client_secret}\"\n",
    "        client_creds_b64 = base64.b64encode(client_creds.encode())\n",
    "        return client_creds_b64.decode()\n",
    "\n",
    "    def get_token_headers(self):\n",
    "        client_creds_b64 = self.get_client_credentials()\n",
    "        return {\n",
    "            \"Authorization\": f\"Basic {client_creds_b64}\"\n",
    "        }\n",
    "\n",
    "    def get_token_data(self):\n",
    "        return {\n",
    "            \"grant_type\": \"client_credentials\"\n",
    "        }\n",
    "\n",
    "    def perform_auth(self):\n",
    "        token_url = self.token_url\n",
    "        token_data = self.get_token_data()\n",
    "        token_headers = self.get_token_headers()\n",
    "        r = requests.post(token_url, data=token_data, headers=token_headers)\n",
    "        if r.status_code not in range(200, 299):\n",
    "            return False\n",
    "        data = r.json()\n",
    "        now = datetime.datetime.now()\n",
    "        access_token = data['access_token']\n",
    "        expires_in = data['expires_in']\n",
    "        expires = now + datetime.timedelta(seconds=expires_in)\n",
    "        self.access_token = access_token\n",
    "        self.access_token_expires = expires\n",
    "        self.access_token_did_expire = expires < now\n",
    "        return True"
   ]
  },
  {
   "cell_type": "code",
   "execution_count": 13,
   "id": "14fe9699-95d5-46d6-9ed1-25bd69d6c2ca",
   "metadata": {},
   "outputs": [],
   "source": [
    "Spotify = SpotifyAPI(client_id, client_secret)"
   ]
  },
  {
   "cell_type": "code",
   "execution_count": 14,
   "id": "da1368ba-0bdc-4056-a2d4-88bd3f77d17d",
   "metadata": {},
   "outputs": [
    {
     "data": {
      "text/plain": [
       "True"
      ]
     },
     "execution_count": 14,
     "metadata": {},
     "output_type": "execute_result"
    }
   ],
   "source": [
    "Spotify.perform_auth()"
   ]
  },
  {
   "cell_type": "code",
   "execution_count": 17,
   "id": "599f885f-4acc-4f6b-9b24-16d63bd58f21",
   "metadata": {},
   "outputs": [
    {
     "data": {
      "text/plain": [
       "'BQCC6so6FEx86w6oLY69qGJ-6WTH37FrQ-fwIV7dffSQfdQUPUJVSSMR68g_LGJ7-YhNMo9bxbTM9mox9v4ex_yVg48tCKB_QgWGQtg8NhqIRVKB1go'"
      ]
     },
     "execution_count": 17,
     "metadata": {},
     "output_type": "execute_result"
    }
   ],
   "source": [
    "Spotify.access_token"
   ]
  },
  {
   "cell_type": "code",
   "execution_count": 18,
   "id": "ef086a91-cb93-4508-8939-ff9b5bf481bb",
   "metadata": {},
   "outputs": [],
   "source": [
    "# Spotify.search"
   ]
  },
  {
   "cell_type": "code",
   "execution_count": null,
   "id": "b8c78ac3-6f6f-4cbb-9be6-f38dc2144f8d",
   "metadata": {},
   "outputs": [],
   "source": []
  }
 ],
 "metadata": {
  "kernelspec": {
   "display_name": "Python 3 (ipykernel)",
   "language": "python",
   "name": "python3"
  },
  "language_info": {
   "codemirror_mode": {
    "name": "ipython",
    "version": 3
   },
   "file_extension": ".py",
   "mimetype": "text/x-python",
   "name": "python",
   "nbconvert_exporter": "python",
   "pygments_lexer": "ipython3",
   "version": "3.11.7"
  }
 },
 "nbformat": 4,
 "nbformat_minor": 5
}
